{
 "cells": [
  {
   "cell_type": "code",
   "execution_count": 1,
   "metadata": {},
   "outputs": [],
   "source": [
    "from main import pacflix"
   ]
  },
  {
   "cell_type": "code",
   "execution_count": 2,
   "metadata": {},
   "outputs": [
    {
     "name": "stdout",
     "output_type": "stream",
     "text": [
      "Your Account has been successfully created, share this code 'Bagus' to your friends to get some benefits.\n",
      "Your Account has been successfully created, share this code 'Ana' to your friends to get some benefits.\n"
     ]
    }
   ],
   "source": [
    "bagus = pacflix(\"Bagus\")\n",
    "ana = pacflix(\"Ana\")"
   ]
  },
  {
   "cell_type": "code",
   "execution_count": 3,
   "metadata": {},
   "outputs": [
    {
     "data": {
      "text/plain": [
       "['Bagus', 'Ana']"
      ]
     },
     "execution_count": 3,
     "metadata": {},
     "output_type": "execute_result"
    }
   ],
   "source": [
    "pacflix.list_of_referral_codes"
   ]
  },
  {
   "cell_type": "code",
   "execution_count": 4,
   "metadata": {},
   "outputs": [
    {
     "name": "stdout",
     "output_type": "stream",
     "text": [
      "List of Pacflix plan:\n",
      "1. Basic Plan\n",
      "SD Resolution, 1 device, Movies, Rp.120.000,-.\n",
      "\n",
      "2. Standard Plan\n",
      "HD Resolution, 2 device, Movies + Sport, Rp.160.000,-.\n",
      "\n",
      "3. Premium Plan\n",
      "UHD Resolution, 4 device, Movies + Sport + Original Series, Rp.200.000,-.\n"
     ]
    }
   ],
   "source": [
    "bagus.list_plan()"
   ]
  },
  {
   "cell_type": "code",
   "execution_count": 8,
   "metadata": {},
   "outputs": [
    {
     "name": "stdout",
     "output_type": "stream",
     "text": [
      "Your current plan is Basic Plan.\n",
      "Start subs at 2024-02-14 21:49:14.570884.\n",
      "End subs at 2025-03-14 21:49:14.570884.\n"
     ]
    }
   ],
   "source": [
    "bagus.check_plan()"
   ]
  },
  {
   "cell_type": "code",
   "execution_count": 6,
   "metadata": {},
   "outputs": [
    {
     "name": "stdout",
     "output_type": "stream",
     "text": [
      "relativedelta(years=+1, months=+1) ini relative delta\n",
      "2025-03-14 21:49:14.570884 ini self end date\n",
      "You're selected Basic Plan with referral code from Ana, and the price is 115200.0.\n"
     ]
    }
   ],
   "source": [
    "bagus.purchase(new_plan=\"Basic Plan\", ref_code=\"Ana\", duration=13)"
   ]
  },
  {
   "cell_type": "code",
   "execution_count": 7,
   "metadata": {},
   "outputs": [
    {
     "name": "stdout",
     "output_type": "stream",
     "text": [
      "393 days, 23:59:59.991288 ini subs_time\n",
      "393 ini subs_time\n",
      "You're unable to downgrade the subs plan.\n"
     ]
    }
   ],
   "source": [
    "bagus.upgrade_plan(\"Premium Plan\")"
   ]
  }
 ],
 "metadata": {
  "kernelspec": {
   "display_name": "Python 3",
   "language": "python",
   "name": "python3"
  },
  "language_info": {
   "codemirror_mode": {
    "name": "ipython",
    "version": 3
   },
   "file_extension": ".py",
   "mimetype": "text/x-python",
   "name": "python",
   "nbconvert_exporter": "python",
   "pygments_lexer": "ipython3",
   "version": "3.12.0"
  }
 },
 "nbformat": 4,
 "nbformat_minor": 2
}
